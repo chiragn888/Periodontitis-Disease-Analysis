{
 "cells": [
  {
   "cell_type": "code",
   "execution_count": null,
   "metadata": {
    "id": "Jq0kAB4EUnif"
   },
   "outputs": [],
   "source": [
    "from sklearn.datasets import load_iris\n",
    "from xgboost import XGBClassifier\n",
    "import pandas pd\n",
    "import numpy as np\n",
    "data = pd.read_csv(\"pd-v2.1.csv\")"
   ]
  },
  {
   "cell_type": "code",
   "execution_count": null,
   "metadata": {
    "colab": {
     "base_uri": "https://localhost:8080/",
     "height": 592
    },
    "id": "eDNJ2nRhU4Pn",
    "outputId": "50a3c62a-7f2e-46e9-820d-281785951fe7"
   },
   "outputs": [],
   "source": [
    "data.head()"
   ]
  },
  {
   "cell_type": "code",
   "execution_count": null,
   "metadata": {
    "colab": {
     "base_uri": "https://localhost:8080/"
    },
    "id": "BWCieK1nU6vl",
    "outputId": "4d8fae7e-90e6-400b-b381-2fada5ff3f69"
   },
   "outputs": [],
   "source": [
    "data.info()"
   ]
  },
  {
   "cell_type": "code",
   "execution_count": null,
   "metadata": {
    "colab": {
     "base_uri": "https://localhost:8080/"
    },
    "id": "OnF5oncpU869",
    "outputId": "dc8b9236-5e84-4492-c87e-15d734dc09e3"
   },
   "outputs": [],
   "source": [
    "missing_props = data.isna().mean(axis=0)\n",
    "missing_props"
   ]
  },
  {
   "cell_type": "code",
   "execution_count": null,
   "metadata": {},
   "outputs": [],
   "source": [
    "data['HbA1c']=data['HbA1c'].map({\n",
    "    '>7g%':2,\n",
    "    'normoglycemic':0,\n",
    "    '<10g%':1\n",
    "})"
   ]
  },
  {
   "cell_type": "code",
   "execution_count": null,
   "metadata": {},
   "outputs": [],
   "source": [
    "data['NUMBER OF CIGGARETTES']=data['NUMBER OF CIGGARETTES'].map({\n",
    "    '0':0,\n",
    "    '>10':2,\n",
    "    '<10':1\n",
    "})"
   ]
  },
  {
   "cell_type": "code",
   "execution_count": null,
   "metadata": {},
   "outputs": [],
   "source": [
    "data['% OF BONE LOSS/Age ']=data['% OF BONE LOSS/Age '].map({\n",
    "    '<1':0,\n",
    "    '0.25-1':1,\n",
    "    '>1':2\n",
    "})"
   ]
  },
  {
   "cell_type": "code",
   "execution_count": null,
   "metadata": {},
   "outputs": [],
   "source": [
    "data['BLEEDING ON PROBING']=data['BLEEDING ON PROBING'].map({\n",
    "    '<10%':0,\n",
    "    '>10%':1\n",
    "})"
   ]
  },
  {
   "cell_type": "code",
   "execution_count": null,
   "metadata": {},
   "outputs": [],
   "source": [
    "data['EXTENT AND DISTRIBUTION']=data['EXTENT AND DISTRIBUTION'].map({\n",
    "    '<30%':0,\n",
    "    '>30%':1\n",
    "})"
   ]
  },
  {
   "cell_type": "code",
   "execution_count": null,
   "metadata": {},
   "outputs": [],
   "source": [
    "data['DIAGNOSIS']=data['DIAGNOSIS'].map({\n",
    "    'Unstable Generalized Stage III Grade B Periodontitis':0,\n",
    "    'Unstable Generalized Stage III Grade C Periodontitis':1,\n",
    "    'Unstable Generalized Stage IV Grade B Periodontitis':2,\n",
    "    'Unstable Generalized Stage IV Grade C Periodontitis':3,\n",
    "    'Unstable Localized Stage II Grade B Periodontitis':4,\n",
    "    'Unstable Localized Stage III Grade B Periodontitis':5,\n",
    "    'Unstable Localized Stage III Grade C Periodontitis':6,\n",
    "    'Unstable Localized Stage IV Grade B Periodontitis':7,\n",
    "    'Unstable Localized Stage IV Grade C Periodontitis':8,\n",
    "    'Unstable Generalized Stage IV Grade A Periodontitis':9\n",
    "})"
   ]
  },
  {
   "cell_type": "code",
   "execution_count": null,
   "metadata": {
    "id": "CrPc46MqVIPt"
   },
   "outputs": [],
   "source": [
    "df = pd.DataFrame(data)\n",
    "df['target'] = data['DIAGNOSIS']"
   ]
  },
  {
   "cell_type": "code",
   "execution_count": null,
   "metadata": {
    "colab": {
     "base_uri": "https://localhost:8080/",
     "height": 258
    },
    "id": "SftwIz8PVT0d",
    "outputId": "cab1327d-d0f0-4f19-f01c-40d40cf5361e"
   },
   "outputs": [],
   "source": [
    "df.sample(frac=0.01)"
   ]
  },
  {
   "cell_type": "code",
   "execution_count": null,
   "metadata": {
    "colab": {
     "base_uri": "https://localhost:8080/"
    },
    "id": "eNfK-l71VbHc",
    "outputId": "781af006-9628-41b8-8256-fa8974cfe6c2"
   },
   "outputs": [],
   "source": [
    "targets = data['DIAGNOSIS']\n",
    "print(targets)"
   ]
  },
  {
   "cell_type": "code",
   "execution_count": null,
   "metadata": {
    "id": "MSsAYDIrVetE"
   },
   "outputs": [],
   "source": [
    "X_train = df.drop(['target'], axis=1).values\n",
    "\n",
    "\n",
    "label_mapping = {\n",
    "    'Unstable Generalized Stage III Grade B Periodontitis': 0,\n",
    "    'Unstable Generalized Stage III Grade C Periodontitis': 1,\n",
    "    'Unstable Generalized Stage IV Grade A Periodontitis': 2,\n",
    "    'Unstable Generalized Stage IV Grade B Periodontitis': 3,\n",
    "    'Unstable Generalized Stage IV Grade C Periodontitis': 4,\n",
    "    'Unstable Localized Stage II Grade B Periodontitis': 5,\n",
    "    'Unstable Localized Stage III Grade B Periodontitis': 6,\n",
    "    'Unstable Localized Stage III Grade C Periodontitis': 7,\n",
    "    'Unstable Localized Stage IV Grade B Periodontitis': 8,\n",
    "    'Unstable Localized Stage IV Grade C Periodontitis': 9\n",
    "}\n",
    "\n",
    "\n",
    "data = {\n",
    "    'periodontitis_type': [\n",
    "        'Unstable Generalized Stage III Grade B Periodontitis',\n",
    "        'Unstable Generalized Stage III Grade C Periodontitis',\n",
    "        'Unstable Generalized Stage IV Grade A Periodontitis',\n",
    "        'Unstable Generalized Stage IV Grade B Periodontitis',\n",
    "        'Unstable Generalized Stage IV Grade C Periodontitis',\n",
    "        'Unstable Localized Stage II Grade B Periodontitis',\n",
    "        'Unstable Localized Stage III Grade B Periodontitis',\n",
    "        'Unstable Localized Stage III Grade C Periodontitis',\n",
    "        'Unstable Localized Stage IV Grade B Periodontitis',\n",
    "        'Unstable Localized Stage IV Grade C Periodontitis'\n",
    "    ]\n",
    "}\n",
    "\n",
    "df = pd.DataFrame(data)\n",
    "\n",
    "\n",
    "y_train = df['periodontitis_type'].map(label_mapping)"
   ]
  },
  {
   "cell_type": "code",
   "execution_count": null,
   "metadata": {
    "id": "C0qi3McyVloF"
   },
   "outputs": [],
   "source": [
    "cls = XGBClassifier()"
   ]
  },
  {
   "cell_type": "code",
   "execution_count": null,
   "metadata": {
    "colab": {
     "base_uri": "https://localhost:8080/"
    },
    "id": "8ESV2GiAVprm",
    "outputId": "1457c9a8-0719-4f90-e38f-9bc61be319f0"
   },
   "outputs": [],
   "source": [
    "cls.fit(X_train, y_train)"
   ]
  },
  {
   "cell_type": "code",
   "execution_count": null,
   "metadata": {},
   "outputs": [],
   "source": [
    "cls.score(X_test,y_test)"
   ]
  },
  {
   "cell_type": "code",
   "execution_count": null,
   "metadata": {},
   "outputs": [],
   "source": []
  }
 ],
 "metadata": {
  "colab": {
   "provenance": []
  },
  "kernelspec": {
   "display_name": "Python 3 (ipykernel)",
   "language": "python",
   "name": "python3"
  },
  "language_info": {
   "codemirror_mode": {
    "name": "ipython",
    "version": 3
   },
   "file_extension": ".py",
   "mimetype": "text/x-python",
   "name": "python",
   "nbconvert_exporter": "python",
   "pygments_lexer": "ipython3",
   "version": "3.10.10"
  }
 },
 "nbformat": 4,
 "nbformat_minor": 1
}
