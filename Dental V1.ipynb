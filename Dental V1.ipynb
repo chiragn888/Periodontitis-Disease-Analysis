{
 "cells": [
  {
   "cell_type": "code",
   "execution_count": null,
   "id": "2881fbf2",
   "metadata": {},
   "outputs": [],
   "source": [
    "import numpy as np\n",
    "import pandas as pd\n",
    "import matplotlib.pyplot as plt\n",
    "from sklearn.preprocessing import LabelEncoder"
   ]
  },
  {
   "cell_type": "code",
   "execution_count": null,
   "id": "9f20b8cb",
   "metadata": {},
   "outputs": [],
   "source": [
    "df=pd.read_csv(\"patient-dataset.csv\")"
   ]
  },
  {
   "cell_type": "code",
   "execution_count": null,
   "id": "ff6260d6",
   "metadata": {},
   "outputs": [],
   "source": [
    "df=df.drop([\"NAME OF THE PATIENT\"],axis=1)"
   ]
  },
  {
   "cell_type": "code",
   "execution_count": null,
   "id": "a59202ee",
   "metadata": {},
   "outputs": [],
   "source": [
    "df=df.dropna()\n",
    "df.shape"
   ]
  },
  {
   "cell_type": "code",
   "execution_count": null,
   "id": "9aeb646b",
   "metadata": {},
   "outputs": [],
   "source": [
    "df.info()"
   ]
  },
  {
   "cell_type": "code",
   "execution_count": null,
   "id": "6f87ee4d",
   "metadata": {},
   "outputs": [],
   "source": [
    "df1=df[['NUMBER OF CIGGARETTES','HbA1c','% OF BONE LOSS/Age ']]"
   ]
  },
  {
   "cell_type": "code",
   "execution_count": null,
   "id": "d274722d",
   "metadata": {},
   "outputs": [],
   "source": [
    "df['HbA1c'].unique()"
   ]
  },
  {
   "cell_type": "raw",
   "id": "cb61a06f",
   "metadata": {},
   "source": [
    "label_encoder=LabelEncoder()\n",
    "df1['HbA1c']=label_encoder.fit_transform(df1['HbA1c'])\n",
    "df1['% OF BONE LOSS/Age ']=label_encoder.fit_transform(df1['% OF BONE LOSS/Age '])\n",
    "df1['NUMBER OF CIGGARETTES']=label_encoder.fit_transform(df1['NUMBER OF CIGGARETTES'])"
   ]
  },
  {
   "cell_type": "code",
   "execution_count": null,
   "id": "5d15a96d",
   "metadata": {},
   "outputs": [],
   "source": [
    "df1['HbA1c']=df1['HbA1c'].map({\n",
    "    '>7g%':2,\n",
    "    'normoglycemic':0,\n",
    "    '<10g%':1\n",
    "})"
   ]
  },
  {
   "cell_type": "code",
   "execution_count": null,
   "id": "a713ea56",
   "metadata": {},
   "outputs": [],
   "source": [
    "df1['NUMBER OF CIGGARETTES']=df1['NUMBER OF CIGGARETTES'].map({\n",
    "    '0':0,\n",
    "    '>10':2,\n",
    "    '<10':1\n",
    "})"
   ]
  },
  {
   "cell_type": "code",
   "execution_count": null,
   "id": "c9c2c351",
   "metadata": {},
   "outputs": [],
   "source": [
    "df1['% OF BONE LOSS/Age ']=df1['% OF BONE LOSS/Age '].map({\n",
    "    '<1':0,\n",
    "    '0.25-1':1,\n",
    "    '>1':2\n",
    "})"
   ]
  },
  {
   "cell_type": "code",
   "execution_count": null,
   "id": "c90945a2",
   "metadata": {},
   "outputs": [],
   "source": [
    "df1['% OF BONE LOSS/Age '].unique()"
   ]
  },
  {
   "cell_type": "code",
   "execution_count": null,
   "id": "f1181d91",
   "metadata": {},
   "outputs": [],
   "source": []
  },
  {
   "cell_type": "code",
   "execution_count": null,
   "id": "190cd89e",
   "metadata": {},
   "outputs": [],
   "source": [
    "df1.isna().sum()"
   ]
  },
  {
   "cell_type": "code",
   "execution_count": null,
   "id": "6efe0ff2",
   "metadata": {},
   "outputs": [],
   "source": [
    "target=df['DIAGNOSIS-1']\n"
   ]
  },
  {
   "cell_type": "code",
   "execution_count": null,
   "id": "3de3e2eb",
   "metadata": {},
   "outputs": [],
   "source": [
    "from sklearn.model_selection import train_test_split\n",
    "X_train,X_test,y_train,y_test=train_test_split(df1,target,train_size=0.8)"
   ]
  },
  {
   "cell_type": "code",
   "execution_count": null,
   "id": "75b1f451",
   "metadata": {},
   "outputs": [],
   "source": [
    "from sklearn.ensemble import RandomForestClassifier\n",
    "model1=RandomForestClassifier\n",
    "model1.fit(X_train,y_train)"
   ]
  },
  {
   "cell_type": "code",
   "execution_count": null,
   "id": "dda9d700",
   "metadata": {},
   "outputs": [],
   "source": [
    "model1.score(X_test,y_test)*100"
   ]
  },
  {
   "cell_type": "code",
   "execution_count": null,
   "id": "929f4da4",
   "metadata": {},
   "outputs": [],
   "source": [
    "df2=df[['TOOTH LOSS','RADIOGRAPHIC BONE LOSS','CLINICAL ATTACHMENT LOSS','POCKET PROBING DEPTH']]"
   ]
  },
  {
   "cell_type": "code",
   "execution_count": null,
   "id": "4ded8d84",
   "metadata": {},
   "outputs": [],
   "source": []
  },
  {
   "cell_type": "code",
   "execution_count": null,
   "id": "5c08c963",
   "metadata": {},
   "outputs": [],
   "source": [
    "from sklearn.model_selection import train_test_split\n",
    "X_train,X_test,y_train,y_test=train_test_split(df2,df['Grade'],train_size=0.8)"
   ]
  },
  {
   "cell_type": "code",
   "execution_count": null,
   "id": "dd003636",
   "metadata": {},
   "outputs": [],
   "source": [
    "from sklearn.linear_model import LogisticRegression\n",
    "model2=LogisticRegression()\n",
    "model2.fit(X_train,y_train)"
   ]
  },
  {
   "cell_type": "code",
   "execution_count": null,
   "id": "aaf8d5ba",
   "metadata": {},
   "outputs": [],
   "source": [
    "model2.score(X_test,y_test)"
   ]
  },
  {
   "cell_type": "code",
   "execution_count": null,
   "id": "ad2c797b",
   "metadata": {},
   "outputs": [],
   "source": []
  },
  {
   "cell_type": "code",
   "execution_count": null,
   "id": "328c5922",
   "metadata": {},
   "outputs": [],
   "source": []
  },
  {
   "cell_type": "code",
   "execution_count": null,
   "id": "f4d61c45",
   "metadata": {},
   "outputs": [],
   "source": []
  },
  {
   "cell_type": "code",
   "execution_count": null,
   "id": "fd6f46af",
   "metadata": {},
   "outputs": [],
   "source": []
  },
  {
   "cell_type": "code",
   "execution_count": null,
   "id": "be1dd0af",
   "metadata": {},
   "outputs": [],
   "source": []
  },
  {
   "cell_type": "code",
   "execution_count": null,
   "id": "f832e4ac",
   "metadata": {},
   "outputs": [],
   "source": []
  }
 ],
 "metadata": {
  "kernelspec": {
   "display_name": "ten",
   "language": "python",
   "name": "python3"
  },
  "language_info": {
   "codemirror_mode": {
    "name": "ipython",
    "version": 3
   },
   "file_extension": ".py",
   "mimetype": "text/x-python",
   "name": "python",
   "nbconvert_exporter": "python",
   "pygments_lexer": "ipython3",
   "version": "3.10.10"
  }
 },
 "nbformat": 4,
 "nbformat_minor": 5
}
