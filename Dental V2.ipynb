{
 "cells": [
  {
   "cell_type": "code",
   "execution_count": null,
   "id": "4bb64f42",
   "metadata": {},
   "outputs": [],
   "source": [
    "#import library \n",
    "import numpy as np \n",
    "import pandas as pd \n",
    "from sklearn.metrics import roc_curve,auc\n",
    "from sklearn.model_selection import train_test_split #used for dividing the data into training and testing batches."
   ]
  },
  {
   "cell_type": "code",
   "execution_count": null,
   "id": "5181949a",
   "metadata": {},
   "outputs": [],
   "source": [
    "df=pd.read_csv('pd-v2.1.csv')\n",
    "df.columns"
   ]
  },
  {
   "cell_type": "code",
   "execution_count": null,
   "id": "4dce2a44",
   "metadata": {},
   "outputs": [],
   "source": [
    "#vectorizing the input ie, converting to numbers\n",
    "df['HbA1c']=df['HbA1c'].map({\n",
    "    '>7g%':2,\n",
    "    'normoglycemic':0,\n",
    "    '<7g%':1\n",
    "})"
   ]
  },
  {
   "cell_type": "code",
   "execution_count": null,
   "id": "3c2d2e9e",
   "metadata": {},
   "outputs": [],
   "source": [
    "df['NUMBER OF CIGGARETTES']=df['NUMBER OF CIGGARETTES'].map({\n",
    "    '0':0,\n",
    "    '>10':2,\n",
    "    '<10':1\n",
    "})"
   ]
  },
  {
   "cell_type": "code",
   "execution_count": null,
   "id": "4d9ad345",
   "metadata": {},
   "outputs": [],
   "source": [
    "df['% OF BONE LOSS/Age ']=df['% OF BONE LOSS/Age '].map({\n",
    "    '<1':0,\n",
    "    '0.25-1':1,\n",
    "    '>1':2\n",
    "})\n",
    "\n",
    "df['EXTENT AND DISTRIBUTION']=df['EXTENT AND DISTRIBUTION'].map({\n",
    "    '<30%':0,\n",
    "    '>30%':1\n",
    "})\n",
    "\n",
    "df['BLEEDING ON PROBING']=df['BLEEDING ON PROBING'].map({\n",
    "    '<10%':0,\n",
    "    '>10%':1\n",
    "})\n",
    "df['DIAGNOSIS']=df['DIAGNOSIS'].map({\n",
    "    'Unstable Generalized Stage III Grade B Periodontitis':0,\n",
    "    'Unstable Generalized Stage III Grade C Periodontitis':1,\n",
    "    'Unstable Generalized Stage IV Grade B Periodontitis':2,\n",
    "    'Unstable Generalized Stage IV Grade C Periodontitis':3,\n",
    "    'Unstable Localized Stage II Grade B Periodontitis':4,\n",
    "    'Unstable Localized Stage III Grade B Periodontitis':5,\n",
    "    'Unstable Localized Stage III Grade C Periodontitis':6,\n",
    "    'Unstable Localized Stage IV Grade B Periodontitis':7,\n",
    "    'Unstable Localized Stage IV Grade C Periodontitis':8,\n",
    "    'Unstable Generalized Stage IV Grade A Periodontitis':9\n",
    "})"
   ]
  },
  {
   "cell_type": "code",
   "execution_count": null,
   "id": "17604b6d",
   "metadata": {},
   "outputs": [],
   "source": [
    "df[:10]"
   ]
  },
  {
   "cell_type": "code",
   "execution_count": null,
   "id": "d81b232f",
   "metadata": {},
   "outputs": [],
   "source": [
    "df.info()"
   ]
  },
  {
   "cell_type": "code",
   "execution_count": null,
   "id": "9151cc58",
   "metadata": {},
   "outputs": [],
   "source": [
    "df[0:2]"
   ]
  },
  {
   "cell_type": "code",
   "execution_count": null,
   "id": "4dab6134",
   "metadata": {},
   "outputs": [],
   "source": [
    "#target attribute\n",
    "target=df['DIAGNOSIS']\n",
    "target = target.reset_index(drop=True)\n",
    "print(target.shape)\n",
    "\n",
    "df=df.drop(['DIAGNOSIS'],axis=1)"
   ]
  },
  {
   "cell_type": "code",
   "execution_count": null,
   "id": "ae0dd009",
   "metadata": {},
   "outputs": [],
   "source": [
    "from lazypredict.Supervised import LazyClassifier\n",
    "\n",
    "X_train, X_test, y_train, y_test = train_test_split(df, target,test_size=.5,random_state =123)\n",
    "\n",
    "clf = LazyClassifier(verbose=0,ignore_warnings=True, custom_metric=None)\n",
    "models,predictions = clf.fit(X_train, X_test, y_train, y_test)\n",
    "\n",
    "print(models)"
   ]
  },
  {
   "cell_type": "code",
   "execution_count": null,
   "id": "5f1a39a4",
   "metadata": {},
   "outputs": [],
   "source": [
    "X_train,X_test,y_train,y_test=train_test_split(df,target,train_size=0.8,stratify=target)\n",
    "\n",
    "from sklearn.svm import SVC\n",
    "clf=SVC()\n",
    "clf.fit(X_train,y_train)\n",
    "clf.score(X_test,y_test)\n",
    "\n",
    "y_pred = clf.predict(X_test)\n",
    "print(\"Accuracy score of the model is:\",accuracy_score(y_test,y_pred)*100,\"%\")\n",
    "print(classification_report(y_test, y_pred))\n"
   ]
  },
  {
   "cell_type": "code",
   "execution_count": null,
   "id": "f557af8c",
   "metadata": {},
   "outputs": [],
   "source": [
    "X_train,X_test,y_train,y_test=train_test_split(df,target,train_size=0.8,stratify=target)\n",
    "\n",
    "from sklearn.ensemble import RandomForestClassifier \n",
    "from sklearn.tree import DecisionTreeClassifier\n",
    "from sklearn.pipeline import Pipeline\n",
    "import matplotlib.pyplot as plt\n",
    "from sklearn.metrics import roc_auc_score\n",
    "from sklearn.datasets import make_classification\n",
    "from sklearn.metrics import confusion_matrix, ConfusionMatrixDisplay\n",
    "from sklearn.metrics import accuracy_score,confusion_matrix,classification_report\n",
    "clf = Pipeline([                   \n",
    "     ('DecissionTree',SVC())          \n",
    "])\n",
    "clf.fit(X_train, y_train)\n",
    "y_pred = clf.predict(X_test)\n",
    "y_class = np.argmax(y_test, axis=0) \n",
    "y_pred_prob=clf.predict_proba(X_test)\n",
    "print(y_pred.shape)\n",
    "\n",
    "print(\"Accuracy score of the model is:\",accuracy_score(y_test,y_pred)*100,\"%\")\n",
    "print(classification_report(y_test, y_pred))\n",
    "      \n",
    "cm = confusion_matrix(y_test, y_pred, labels=clf.classes_)\n",
    "disp = ConfusionMatrixDisplay(confusion_matrix=cm,display_labels=clf.classes_)\n",
    "disp.plot()\n",
    "plt.show()"
   ]
  },
  {
   "cell_type": "code",
   "execution_count": null,
   "id": "9892980f",
   "metadata": {},
   "outputs": [],
   "source": [
    "from sklearn.metrics import roc_curve, auc\n",
    "from sklearn.preprocessing import label_binarize\n",
    "from itertools import cycle\n",
    "import numpy as np\n",
    "\n",
    "\n",
    "# y_test is the true labels of the test instances\n",
    "# y_pred_prob is the predicted probabilities for each class\n",
    "n_classes = len(np.unique(y_test))\n",
    "y_test_bin = label_binarize(y_test, classes=np.arange(n_classes))\n",
    "fpr = dict()\n",
    "tpr = dict()\n",
    "roc_auc = dict()\n",
    "\n",
    "for i in range(n_classes):\n",
    "    fpr[i], tpr[i], _ = roc_curve(y_test_bin[:, i], y_pred_prob[:, i])\n",
    "    roc_auc[i] = auc(fpr[i], tpr[i])\n",
    "\n",
    "# Plot the ROC curves for each class\n",
    "plt.figure(figsize=(8,6))\n",
    "colors = cycle(['blue', 'red', 'green', 'purple', 'orange'])\n",
    "su=0\n",
    "for i, color in zip(range(n_classes), colors):\n",
    "    su+=roc_auc[i]\n",
    "    plt.plot(fpr[i], tpr[i], color=color, lw=2,\n",
    "             label='ROC curve of class {0} (AUC = {1:0.2f})'\n",
    "             ''.format(i, roc_auc[i]))\n",
    "plt.plot([0, 1], [0, 1], 'k--', lw=2) # random guessing\n",
    "plt.xlim([0.0, 1.0])\n",
    "plt.ylim([0.0, 1.05])\n",
    "plt.xlabel('False Positive Rate')\n",
    "plt.ylabel('True Positive Rate')\n",
    "plt.title('ROC curve for multi-class classification')\n",
    "plt.legend(loc=\"lower right\")\n",
    "plt.show()\n",
    "print('AUC',su/9)"
   ]
  }
 ],
 "metadata": {
  "kernelspec": {
   "display_name": "ten",
   "language": "python",
   "name": "python3"
  },
  "language_info": {
   "codemirror_mode": {
    "name": "ipython",
    "version": 3
   },
   "file_extension": ".py",
   "mimetype": "text/x-python",
   "name": "python",
   "nbconvert_exporter": "python",
   "pygments_lexer": "ipython3",
   "version": "3.10.10"
  }
 },
 "nbformat": 4,
 "nbformat_minor": 5
}
