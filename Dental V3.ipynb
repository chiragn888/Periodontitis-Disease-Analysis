{
 "cells": [
  {
   "cell_type": "code",
   "execution_count": null,
   "id": "4d61b3db",
   "metadata": {},
   "outputs": [],
   "source": [
    "import numpy as np \n",
    "import pandas as pd \n",
    "from sklearn.model_selection import train_test_split"
   ]
  },
  {
   "cell_type": "code",
   "execution_count": null,
   "id": "1e8a6a91",
   "metadata": {},
   "outputs": [],
   "source": [
    "df=pd.read_csv('pd-v2.1.csv')"
   ]
  },
  {
   "cell_type": "code",
   "execution_count": null,
   "id": "ece60a86",
   "metadata": {},
   "outputs": [],
   "source": [
    "df['HbA1c']=df['HbA1c'].map({\n",
    "    '>7g%':2,\n",
    "    'normoglycemic':0,\n",
    "    '<7g%':1\n",
    "})"
   ]
  },
  {
   "cell_type": "code",
   "execution_count": null,
   "id": "ca8933cf",
   "metadata": {},
   "outputs": [],
   "source": [
    "df['NUMBER OF CIGGARETTES']=df['NUMBER OF CIGGARETTES'].map({\n",
    "    '0':0,\n",
    "    '>10':2,\n",
    "    '<10':1\n",
    "})"
   ]
  },
  {
   "cell_type": "code",
   "execution_count": null,
   "id": "e3740394",
   "metadata": {},
   "outputs": [],
   "source": [
    "df['% OF BONE LOSS/Age ']=df['% OF BONE LOSS/Age '].map({\n",
    "    '<1':0,\n",
    "    '0.25-1':1,\n",
    "    '>1':2\n",
    "})\n",
    "\n",
    "df['EXTENT AND DISTRIBUTION']=df['EXTENT AND DISTRIBUTION'].map({\n",
    "    '<30%':0,\n",
    "    '>30%':1\n",
    "})\n",
    "\n",
    "df['BLEEDING ON PROBING']=df['BLEEDING ON PROBING'].map({\n",
    "    '<10%':0,\n",
    "    '>10%':1\n",
    "})\n",
    "df['DIAGNOSIS']=df['DIAGNOSIS'].map({\n",
    "    'Unstable Generalized Stage III Grade B Periodontitis':0,\n",
    "    'Unstable Generalized Stage III Grade C Periodontitis':1,\n",
    "    'Unstable Generalized Stage IV Grade B Periodontitis':2,\n",
    "    'Unstable Generalized Stage IV Grade C Periodontitis':3,\n",
    "    'Unstable Localized Stage II Grade B Periodontitis':4,\n",
    "    'Unstable Localized Stage III Grade B Periodontitis':5,\n",
    "    'Unstable Localized Stage III Grade C Periodontitis':6,\n",
    "    'Unstable Localized Stage IV Grade B Periodontitis':7,\n",
    "    'Unstable Localized Stage IV Grade C Periodontitis':8,\n",
    "    'Unstable Generalized Stage IV Grade A Periodontitis':9\n",
    "})\n",
    "\n",
    "df[:10]"
   ]
  },
  {
   "cell_type": "code",
   "execution_count": null,
   "id": "cd801384",
   "metadata": {},
   "outputs": [],
   "source": [
    "df.info()"
   ]
  },
  {
   "cell_type": "code",
   "execution_count": null,
   "id": "8d616620",
   "metadata": {},
   "outputs": [],
   "source": [
    "target=df['DIAGNOSIS']\n",
    "df=df.drop(['DIAGNOSIS'],axis=1)"
   ]
  },
  {
   "cell_type": "code",
   "execution_count": null,
   "id": "7eb7d77d",
   "metadata": {},
   "outputs": [],
   "source": [
    "target"
   ]
  },
  {
   "cell_type": "code",
   "execution_count": null,
   "id": "384daece",
   "metadata": {},
   "outputs": [],
   "source": [
    "X_train, X_test, y_train, y_test = train_test_split(df, target, test_size = 0.2)\n",
    "from xgboost import XGBClassifier\n",
    "import matplotlib.pyplot as plt\n",
    "from sklearn.datasets import make_classification\n",
    "from sklearn.metrics import confusion_matrix, ConfusionMatrixDisplay\n",
    "from sklearn.metrics import accuracy_score,confusion_matrix,classification_report\n",
    "xgb = XGBClassifier(booster = 'gblinear', learning_rate = 1, max_depth = 4, n_estimators = 12)\n",
    "xgb.fit(X_train, y_train)\n",
    "\n",
    "y_pred = xgb.predict(X_test)\n",
    "\n",
    "acc=accuracy_score(y_test,y_pred)\n",
    "print(\"Accuracy score of the model is:\",accuracy_score(y_test,y_pred)*100,\"%\")\n",
    "\n",
    "\n",
    "print(\"Classification Report\",classification_report(y_test,y_pred))\n",
    "\n",
    "cm = confusion_matrix(y_test, y_pred, labels=xgb.classes_)\n",
    "disp = ConfusionMatrixDisplay(confusion_matrix=cm,display_labels=xgb.classes_)\n",
    "disp.plot()\n",
    "plt.show()"
   ]
  },
  {
   "cell_type": "code",
   "execution_count": null,
   "id": "77f2ac93",
   "metadata": {},
   "outputs": [],
   "source": []
  },
  {
   "cell_type": "code",
   "execution_count": null,
   "id": "ec1f57c4",
   "metadata": {},
   "outputs": [],
   "source": []
  }
 ],
 "metadata": {
  "kernelspec": {
   "display_name": "ten",
   "language": "python",
   "name": "python3"
  },
  "language_info": {
   "codemirror_mode": {
    "name": "ipython",
    "version": 3
   },
   "file_extension": ".py",
   "mimetype": "text/x-python",
   "name": "python",
   "nbconvert_exporter": "python",
   "pygments_lexer": "ipython3",
   "version": "3.10.10"
  }
 },
 "nbformat": 4,
 "nbformat_minor": 5
}
